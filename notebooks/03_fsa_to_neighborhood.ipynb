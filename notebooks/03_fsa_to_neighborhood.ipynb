{
 "cells": [
  {
   "cell_type": "markdown",
   "id": "0",
   "metadata": {},
   "source": [
    "# Exploring the Spatial Relationship Between FSAs and Toronto Neighbourhoods\n",
    "\n",
    "This notebook explores the spatial relationship between Forward Sortation Areas (FSAs) used in the 2021 Canadian Census and the City of Toronto’s 158 official neighbourhoods. The goal is to develop a method for converting census data organized by FSAs into neighbourhood-based data, enabling integration with Toronto’s auto theft dataset that use neighbourhoods as the geographic key.\n",
    "\n",
    "## Understanding FSAs and Neighbourhoods\n",
    "\n",
    "- **Forward Sortation Areas (FSAs):** The first three characters of Canadian postal codes (e.g., M5V, M4C), used by Canada Post to define regions for mail delivery. FSAs can span large areas and may cross municipal boundaries.\n",
    "- **Toronto’s 158 Neighbourhoods:** Defined by the City of Toronto for urban planning and community development, these neighbourhoods are based on social, economic, and historical factors and are used for organizing city services and statistical analysis.\n",
    "\n",
    "## Relationship Between FSAs and Neighbourhoods\n",
    "\n",
    "FSAs and neighbourhoods are defined for different purposes and do not align perfectly:\n",
    "\n",
    "- **One FSA, Multiple Neighbourhoods:** An FSA may cover parts of several neighbourhoods (e.g., FSA M5V includes the Entertainment District, King West, and parts of Queen West).\n",
    "- **One Neighbourhood, Multiple FSAs:** A single neighbourhood might span multiple FSAs (e.g., The Annex falls within both M5R and M5S).\n",
    "\n",
    "This overlap arises because FSAs are designed for postal delivery efficiency, while neighbourhoods reflect community identity and administrative needs.\n",
    "\n",
    "## Methodology: Areal-Weighted Interpolation\n",
    "\n",
    "To join census data (by FSA) with neighbourhood-based datasets, we establish a spatial relationship between FSAs and neighbourhoods. The common approach is areal-weighted interpolation, which assumes that population is uniformly distributed within each FSA. Overlapping regions between FSAs and neighbourhoods receive a proportion of the population based on the area of overlap.\n",
    "\n",
    "**Assumption:**  \n",
    "Population is distributed uniformly within each FSA. This means that, for overlapping areas, census data is allocated proportionally by area.\n",
    "\n",
    "**Limitations:**\n",
    "\n",
    "- Urban population density can vary significantly within an FSA due to zoning, commercial areas, and uninhabited spaces.\n",
    "- Uniform distribution may lead to inaccuracies in neighbourhood-level estimates.\n",
    "\n",
    "**Potential Improvements:**\n",
    "\n",
    "- **Dasymetric Mapping:** Uses ancillary data (e.g., land use, building footprints) to refine population allocation.\n",
    "- **Building Footprint Analysis:** Allocates population based on residential building locations and types.\n",
    "\n",
    "While these advanced methods offer greater accuracy, they require more detailed data and analysis. If such resources are unavailable, areal-weighted interpolation with the uniform distribution assumption remains a practical, if imperfect, solution.\n",
    "\n",
    "---\n",
    "\n",
    "This notebook documents the workflow for spatially joining FSAs and neighbourhoods, calculating area overlaps, and proportionally distributing census data to enable integrated analysis of Toronto’s neighbourhood-based datasets.\n"
   ]
  },
  {
   "cell_type": "code",
   "execution_count": null,
   "id": "1",
   "metadata": {},
   "outputs": [],
   "source": [
    "import geopandas as gpd"
   ]
  },
  {
   "cell_type": "markdown",
   "id": "2",
   "metadata": {},
   "source": [
    "Neighbourhoods data for Toronto is available from the City of Toronto's Open Data portal:  \n",
    "https://open.toronto.ca/dataset/neighbourhoods/\n",
    "It can be directly downloaded as a GeoJSON file: `neighbourhoods_158.geojson`\n",
    "\n",
    "Forward Sortation Area (FSA) boundaries for Canada can be downloaded from Statistics Canada:  \n",
    "https://www12.statcan.gc.ca/census-recensement/2021/geo/sip-pis/boundary-limites/index2021-eng.cfm?year=21\n",
    "\n",
    "**Preprocessing steps:**\n",
    "\n",
    "- The full FSA dataset from Statistics Canada was filtered in QGIS to include only FSAs within the City of Toronto. The result was exported as `toronto_fsa.geojson`.\n",
    "- Both the neighbourhoods and FSA datasets were loaded as GeoDataFrames.\n",
    "- To ensure accurate area calculations, both layers were reprojected to an equal-area coordinate reference system (EPSG:3347).\n",
    "- These prepared datasets are used for spatial analysis and area-based interpolation in the following steps.\n"
   ]
  },
  {
   "cell_type": "code",
   "execution_count": null,
   "id": "3",
   "metadata": {},
   "outputs": [],
   "source": [
    "# Load Toronto's neighborhoods shapefile\n",
    "hood_file = \"../data/00_raw/neighbourhoods_158.geojson\"\n",
    "fsa_file = \"../data/00_raw/toronto_fsa.geojson\"\n",
    "\n",
    "hoods = gpd.read_file(hood_file)\n",
    "fsas = gpd.read_file(fsa_file)\n",
    "\n",
    "display(hoods.head())\n",
    "display(fsas.head())"
   ]
  },
  {
   "cell_type": "code",
   "execution_count": null,
   "id": "4",
   "metadata": {},
   "outputs": [],
   "source": [
    "import matplotlib.pyplot as plt\n",
    "import seaborn as sns\n",
    "\n",
    "# Set styling\n",
    "plt.style.use('seaborn-v0_8-whitegrid')\n",
    "sns.set_palette('viridis')\n",
    "\n",
    "# Load spatial data for visualization\n",
    "try:\n",
    "    print(f\"Loaded neighborhoods: {len(hoods)}\")\n",
    "    print(f\"Loaded FSAs: {len(fsas)}\")\n",
    "\n",
    "    # Plot basic maps to confirm data is loaded correctly\n",
    "    fig, (ax1, ax2) = plt.subplots(1, 2, figsize=(15, 7))\n",
    "\n",
    "    hoods.plot(ax=ax1, edgecolor='black', alpha=0.5)\n",
    "    ax1.set_title(\"Toronto Neighborhoods\")\n",
    "    ax1.set_axis_off()\n",
    "\n",
    "    fsas.plot(ax=ax2, edgecolor='black', alpha=0.5)\n",
    "    ax2.set_title(\"Toronto FSAs\")\n",
    "    ax2.set_axis_off()\n",
    "\n",
    "    plt.tight_layout()\n",
    "    plt.show()\n",
    "\n",
    "except Exception as e:\n",
    "    print(f\"Error loading spatial data: {e}\")\n",
    "    print(\"Skipping visualization\")"
   ]
  },
  {
   "cell_type": "code",
   "execution_count": null,
   "id": "5",
   "metadata": {},
   "outputs": [],
   "source": [
    "# Reproject to equal-area CRS for accurate area calculation\n",
    "hoods = hoods.to_crs(\"EPSG:3347\")\n",
    "fsas = fsas.to_crs(\"EPSG:3347\")"
   ]
  },
  {
   "cell_type": "code",
   "execution_count": null,
   "id": "6",
   "metadata": {},
   "outputs": [],
   "source": [
    "# Calculate original neighbourhood areas\n",
    "fsas[\"fsa_area\"] = fsas.geometry.area\n",
    "\n",
    "# Spatial intersection\n",
    "intersect = gpd.overlay(fsas, hoods, how=\"intersection\")\n",
    "intersect[\"intersect_area\"] = intersect.geometry.area\n",
    "\n",
    "# Calculate percentage overlap\n",
    "intersect = intersect.merge(fsas[[\"CFSAUID\"]], on=\"CFSAUID\")\n",
    "intersect[\"overlap_percent\"] = intersect[\"intersect_area\"] / intersect[\"fsa_area\"]\n",
    "\n",
    "# drop rows with overlap less than 0.1%\n",
    "intersect = intersect[intersect[\"overlap_percent\"] >= 0.001]\n",
    "\n",
    "display(intersect[[\"AREA_LONG_CODE\", \"CFSAUID\", \"overlap_percent\"]])"
   ]
  },
  {
   "cell_type": "code",
   "execution_count": null,
   "id": "7",
   "metadata": {},
   "outputs": [],
   "source": [
    "# group by CFSAUID\n",
    "grouped = intersect.groupby(\"CFSAUID\").agg({\n",
    "    \"AREA_LONG_CODE\": list,\n",
    "    \"overlap_percent\": \"sum\"\n",
    "}).reset_index()\n",
    "display(grouped)"
   ]
  },
  {
   "cell_type": "code",
   "execution_count": null,
   "id": "8",
   "metadata": {},
   "outputs": [],
   "source": [
    "# group by AREA_LONG_CODE\n",
    "grouped = intersect.groupby(\"AREA_LONG_CODE\").agg({\n",
    "    \"CFSAUID\": list,\n",
    "    \"overlap_percent\": \"sum\"\n",
    "}).reset_index()\n",
    "display(grouped)"
   ]
  }
 ],
 "metadata": {
  "kernelspec": {
   "display_name": ".venv",
   "language": "python",
   "name": "python3"
  },
  "language_info": {
   "codemirror_mode": {
    "name": "ipython",
    "version": 3
   },
   "file_extension": ".py",
   "mimetype": "text/x-python",
   "name": "python",
   "nbconvert_exporter": "python",
   "pygments_lexer": "ipython3",
   "version": "3.10.14"
  }
 },
 "nbformat": 4,
 "nbformat_minor": 5
}
